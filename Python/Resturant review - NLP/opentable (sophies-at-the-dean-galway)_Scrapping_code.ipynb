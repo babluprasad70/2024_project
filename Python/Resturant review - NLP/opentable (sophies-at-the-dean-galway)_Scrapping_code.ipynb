{
 "cells": [
  {
   "cell_type": "markdown",
   "id": "a904d878",
   "metadata": {},
   "source": [
    "<h1 align=\"center\"><font color='red'>Web Scrapping</font></h1>"
   ]
  },
  {
   "cell_type": "code",
   "execution_count": 1,
   "id": "611c5774",
   "metadata": {},
   "outputs": [],
   "source": [
    "#Importing important libraries\n",
    "import pandas as pd\n",
    "import numpy as np\n",
    "import requests\n",
    "from bs4 import BeautifulSoup"
   ]
  },
  {
   "cell_type": "markdown",
   "id": "1758f781",
   "metadata": {},
   "source": [
    "**Note:**\n",
    "\n",
    "Web scrapping from website: https://www.opentable.ie/r/sophies-at-the-dean-galway\n",
    "\n",
    "Check the resturant location from your location = '<a href=\"https://www.google.com/maps/dir/53.2952566,-9.0605153/Sophie%27s+Rooftop+Galway,+78+Prospect+Hill,+Galway,+H91+WR6P/@53.2880857,-9.0948586,13z/data=!3m1!4b1!4m9!4m8!1m1!4e1!1m5!1m1!1s0x485b97312ec7ef3f:0x529d2ae04bf09f24!2m2!1d-9.0469633!2d53.2769277?entry=ttu\" target=\"_blank\">Sophie\\'s Rooftop Galway Location</a>'\n",
    "\n"
   ]
  },
  {
   "cell_type": "markdown",
   "id": "2b1c21fa",
   "metadata": {},
   "source": [
    "**Description:**\n",
    "The Python script titled \"Scraping OpenTable Reviews for Sophie's at The Dean, Galway\" is designed to extract reviews from the OpenTable platform for the specified restaurant. The script utilizes custom headers, particularly a User-Agent string, to mimic browser behavior. By employing the requests library, the script sends HTTP GET requests to a series of URLs, which are previously generated to cover multiple pages of reviews. Upon receiving responses, the script utilizes BeautifulSoup to parse the HTML content. It then searches for specific <div> elements with the class attribute 'MpiILQAMSSg-', which typically contain individual review data. For each found item, representing a review, it appends the corresponding HTML snippet to a list named items. This script essentially automates the process of fetching and parsing reviews, enabling further analysis or processing of the extracted data."
   ]
  },
  {
   "cell_type": "code",
   "execution_count": 2,
   "id": "706f9ca7",
   "metadata": {},
   "outputs": [],
   "source": [
    "#URLs for OpenTable Reviews of Sophie's at The Dean, Galway\n",
    "url_1=[]\n",
    "\n",
    "#Looping to get data one by one                                                                                                                                                                                                                                                                                                                                                                                                                                                                                                                                                                                                                                                                                                                                                                                                                                                                                                                                                                                                                                                                                                                                                                                                                                                                                                                                                                                                                                                                                                                                                                                                                                                                                                                                                                                                                                                                                                                                                                                                                                                                                                                                                                                                                                                                                                                                                                                                                                                                                                                                                                                                                                                                                                                                                                                                                                                                                                                                                                                                                                                                                                                                                                                                                                                                                                                                                                                                                                                                                                                                                                                                                                                                                                                                                                                                                                                                                                                                                                                                                                                                                                                                                                                                                                                                                                                                                                                                                                                                                                                                                                                                                                                                                                                                                                                                                                                                                                                                                                                                                                                                                                                                                                                                                                                                                                                                                                                                                                                                                                                                                                                                                                                                                                                                                                                                                                                                                                                                                                                                                                                                                                                                                                                                                                                                                                                                                                                                                                                                                                                                                                                                                                                                                                                                                                                                                                                                                                                                                                                                                                                                                                                                                                                                                                                                                                                                                                                                                                                                                                                                                                                                                                                                                                                                                                                                                                                                                                                                                                                                                                                                                                                                                                                                                                                                                                                                                                                                                                                                                                                                                                                                                                                                                                                                                                                                                                                                                                                                                                                                                                                                                                                                                                                                                                                                                                                                                                                                                                                                                                                                                                                                                                                                                                                                                                                                                                                                                                                                                                                                                                                                                                                                                                                                                                                                                                                                                                                                                                                                                                                                                                                                                                                                                                                                                                                                                                                                                                                                                                                                                                                                                                                                                                                                                                        till page 16\n",
    "for i in range(1,16):\n",
    "    url= \"https://www.opentable.ie/r/sophies-at-the-dean-galway?page={}&sortBy=newestReview\".format(i)\n",
    "    url_1.append(url) "
   ]
  },
  {
   "cell_type": "code",
   "execution_count": 3,
   "id": "32496650",
   "metadata": {},
   "outputs": [],
   "source": [
    "#Scraping OpenTable Reviews for Sophie's at The Dean, Galway with Custom Headers\n",
    "headers = {'User-Agent':'Mozilla/5.0 (Macintosh; Intel Mac OS X 10_11_2) AppleWebKit/601.3.9 (KHTML, like Gecko) Version/9.0.2 Safari/601.3.9'}\n",
    "\n",
    "items=[]\n",
    "\n",
    "for rev in url_1:\n",
    "    search_response=requests.get(rev,headers=headers)\n",
    "    search_response.text\n",
    "    soup =BeautifulSoup(search_response.text,\"lxml\")\n",
    "    for item in soup.find_all('div', attrs = {'class': 'MpiILQAMSSg-'}):\n",
    "        items.append(item) "
   ]
  },
  {
   "cell_type": "code",
   "execution_count": 4,
   "id": "df86659a",
   "metadata": {},
   "outputs": [],
   "source": [
    "#fetching reviews using class from html\n",
    "review_2=[]\n",
    "\n",
    "for i in items: \n",
    "    review=i.find('span',{'class': 'l9bbXUdC9v0- ZatlKKd1hyc- ukvN6yaH1Ds-'}).text.strip()\n",
    "    review_2.append(review)"
   ]
  },
  {
   "cell_type": "code",
   "execution_count": 5,
   "id": "0fb359e3",
   "metadata": {},
   "outputs": [
    {
     "data": {
      "text/html": [
       "<div>\n",
       "<style scoped>\n",
       "    .dataframe tbody tr th:only-of-type {\n",
       "        vertical-align: middle;\n",
       "    }\n",
       "\n",
       "    .dataframe tbody tr th {\n",
       "        vertical-align: top;\n",
       "    }\n",
       "\n",
       "    .dataframe thead th {\n",
       "        text-align: right;\n",
       "    }\n",
       "</style>\n",
       "<table border=\"1\" class=\"dataframe\">\n",
       "  <thead>\n",
       "    <tr style=\"text-align: right;\">\n",
       "      <th></th>\n",
       "      <th>Reviews</th>\n",
       "    </tr>\n",
       "  </thead>\n",
       "  <tbody>\n",
       "    <tr>\n",
       "      <th>0</th>\n",
       "      <td>Love it. Had wings downstairs in elephant and ...</td>\n",
       "    </tr>\n",
       "    <tr>\n",
       "      <th>1</th>\n",
       "      <td>Beautiful ambience. Nice service stuff. Took c...</td>\n",
       "    </tr>\n",
       "    <tr>\n",
       "      <th>2</th>\n",
       "      <td>Very accomodating of our party, including our ...</td>\n",
       "    </tr>\n",
       "    <tr>\n",
       "      <th>3</th>\n",
       "      <td>Very good service and good food. Restaurant wa...</td>\n",
       "    </tr>\n",
       "    <tr>\n",
       "      <th>4</th>\n",
       "      <td>We booked a table for dinner, to celebrate a f...</td>\n",
       "    </tr>\n",
       "  </tbody>\n",
       "</table>\n",
       "</div>"
      ],
      "text/plain": [
       "                                             Reviews\n",
       "0  Love it. Had wings downstairs in elephant and ...\n",
       "1  Beautiful ambience. Nice service stuff. Took c...\n",
       "2  Very accomodating of our party, including our ...\n",
       "3  Very good service and good food. Restaurant wa...\n",
       "4  We booked a table for dinner, to celebrate a f..."
      ]
     },
     "execution_count": 5,
     "metadata": {},
     "output_type": "execute_result"
    }
   ],
   "source": [
    "#Creating dataframe for fecthed reveiws\n",
    "df_review = pd.DataFrame({'Reviews': review_2})\n",
    "df_review.head()"
   ]
  },
  {
   "cell_type": "code",
   "execution_count": 6,
   "id": "6c5790f9",
   "metadata": {},
   "outputs": [
    {
     "data": {
      "text/plain": [
       "360"
      ]
     },
     "execution_count": 6,
     "metadata": {},
     "output_type": "execute_result"
    }
   ],
   "source": [
    "#Checking the length of reviews\n",
    "len(df_review)"
   ]
  },
  {
   "cell_type": "code",
   "execution_count": 7,
   "id": "9d8aba52",
   "metadata": {},
   "outputs": [
    {
     "name": "stdout",
     "output_type": "stream",
     "text": [
      "  Ratings\n",
      "0       5\n",
      "1       5\n",
      "2       4\n",
      "3       4\n",
      "4       3\n"
     ]
    }
   ],
   "source": [
    "#fetching rating of food using class from html\n",
    "rating_2 = []\n",
    "\n",
    "for item in items:\n",
    "    # Find all 'li' tags for each category rating within the item\n",
    "    li_tags = item.find_all('li', {'class': '-k5xpTfSXac-'})\n",
    "    for li in li_tags:\n",
    "        category_rating = li.text.strip().split(\" \")\n",
    "        category = category_rating[0]=='Food'  # Category name, e.g., \"Food\"\n",
    "        rating = category_rating[-1]  # Rating value\n",
    "        rating_2.append((category, rating))\n",
    "        true_ratings = [rating for is_true, rating in rating_2 if is_true]\n",
    "\n",
    "# Convert list to DataFrame\n",
    "df_rating = pd.DataFrame({'Ratings': true_ratings})\n",
    "\n",
    "# Print DataFrame\n",
    "print(df_rating.head())"
   ]
  },
  {
   "cell_type": "code",
   "execution_count": 8,
   "id": "27bfd58c",
   "metadata": {},
   "outputs": [
    {
     "name": "stdout",
     "output_type": "stream",
     "text": [
      "   Sentiment\n",
      "0          2\n",
      "1          2\n",
      "2          2\n",
      "3          2\n",
      "4          1\n"
     ]
    }
   ],
   "source": [
    "# Convert 'Ratings' column to numeric\n",
    "df_rating['Ratings'] = pd.to_numeric(df_rating['Ratings'])\n",
    "\n",
    "# Define a function to map numerical ratings to sentiment categories\n",
    "def map_sentiment(rating):\n",
    "    if rating <=2:\n",
    "        return 0  # bad\n",
    "    elif rating == 3:\n",
    "        return 1  # neutral\n",
    "    elif rating in [4, 5]:\n",
    "        return 2  # positive\n",
    "    else:\n",
    "        return -1  # unknown\n",
    "\n",
    "# Apply the mapping function to the 'Ratings' column and remove it\n",
    "df_rating['Sentiment'] = df_rating['Ratings'].apply(map_sentiment)\n",
    "df_rating.drop(columns=['Ratings'], inplace=True)\n",
    "\n",
    "# Print the modified DataFrame\n",
    "print(df_rating.head())"
   ]
  },
  {
   "cell_type": "code",
   "execution_count": 9,
   "id": "9c8683cd",
   "metadata": {},
   "outputs": [
    {
     "data": {
      "text/plain": [
       "360"
      ]
     },
     "execution_count": 9,
     "metadata": {},
     "output_type": "execute_result"
    }
   ],
   "source": [
    "len(df_rating)"
   ]
  },
  {
   "cell_type": "code",
   "execution_count": 10,
   "id": "af57d262",
   "metadata": {
    "scrolled": true
   },
   "outputs": [
    {
     "name": "stdout",
     "output_type": "stream",
     "text": [
      "                                               Reviews  Sentiment\n",
      "0    Love it. Had wings downstairs in elephant and ...          2\n",
      "1    Beautiful ambience. Nice service stuff. Took c...          2\n",
      "2    Very accomodating of our party, including our ...          2\n",
      "3    Very good service and good food. Restaurant wa...          2\n",
      "4    We booked a table for dinner, to celebrate a f...          1\n",
      "..                                                 ...        ...\n",
      "355  Great cocktails and atmosphere, will definitel...          2\n",
      "356  Fabulous experience \\nDelicious meal\\nExcellen...          2\n",
      "357  Food and cocktails were phenomenal, will be ba...          2\n",
      "358  Few teething problems, really think the place ...          1\n",
      "359  Loved everything about Sophieâs. Will 100% b...          2\n",
      "\n",
      "[360 rows x 2 columns]\n"
     ]
    }
   ],
   "source": [
    "# Merge the two DataFrames\n",
    "df = pd.concat([df_review, df_rating], axis=1)\n",
    "\n",
    "# Print the merged DataFrame\n",
    "print(df)"
   ]
  },
  {
   "cell_type": "code",
   "execution_count": 11,
   "id": "7609f72b",
   "metadata": {},
   "outputs": [],
   "source": [
    "#Saving to csv file \n",
    "df.to_csv('fetched_resturant_file.csv',index=False)"
   ]
  },
  {
   "cell_type": "markdown",
   "id": "053aaa12",
   "metadata": {},
   "source": [
    "**Take away:**\n",
    "\n",
    "Through the process of web scraping, we've successfully acquired reviews and corresponding sentiment ratings, representing the rating of food. This data will serve as a pivotal component for our Assignment 3, where we'll utilize it for training various machine learning models. Subsequently, these trained models will be leveraged to predict the sentiment of new reviews provided by customers. By incorporating this scraped data into our assignment, we aim to develop robust predictive models capable of discerning sentiment with high accuracy, thereby enhancing our understanding of customer feedback and satisfaction levels."
   ]
  },
  {
   "cell_type": "markdown",
   "id": "f53b1787",
   "metadata": {},
   "source": [
    "<p style=\"text-align:center; color:#ff5733; font-size:24px; font-weight:bold; font-style:italic;\">------Thanks for now------</p>\n"
   ]
  }
 ],
 "metadata": {
  "kernelspec": {
   "display_name": "Python 3 (ipykernel)",
   "language": "python",
   "name": "python3"
  },
  "language_info": {
   "codemirror_mode": {
    "name": "ipython",
    "version": 3
   },
   "file_extension": ".py",
   "mimetype": "text/x-python",
   "name": "python",
   "nbconvert_exporter": "python",
   "pygments_lexer": "ipython3",
   "version": "3.11.5"
  }
 },
 "nbformat": 4,
 "nbformat_minor": 5
}
